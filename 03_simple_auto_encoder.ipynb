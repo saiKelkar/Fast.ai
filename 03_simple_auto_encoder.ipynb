{
  "nbformat": 4,
  "nbformat_minor": 0,
  "metadata": {
    "colab": {
      "provenance": [],
      "authorship_tag": "ABX9TyNYpv1MoR9+fIIoYztzyAgg",
      "include_colab_link": true
    },
    "kernelspec": {
      "name": "python3",
      "display_name": "Python 3"
    },
    "language_info": {
      "name": "python"
    }
  },
  "cells": [
    {
      "cell_type": "markdown",
      "metadata": {
        "id": "view-in-github",
        "colab_type": "text"
      },
      "source": [
        "<a href=\"https://colab.research.google.com/github/saiKelkar/Fast.ai/blob/main/03_simple_auto_encoder.ipynb\" target=\"_parent\"><img src=\"https://colab.research.google.com/assets/colab-badge.svg\" alt=\"Open In Colab\"/></a>"
      ]
    },
    {
      "cell_type": "code",
      "execution_count": 3,
      "metadata": {
        "id": "lhSZUR6v7vOK"
      },
      "outputs": [],
      "source": [
        "!pip install -q torch_snippets\n",
        "from torch_snippets import *\n",
        "from torchvision.datasets import MNIST\n",
        "from torchvision import transforms\n",
        "import torch\n",
        "\n",
        "device = 'cuda' if torch.cuda.is_available() else 'cpu'"
      ]
    },
    {
      "cell_type": "code",
      "source": [
        "img_transform = transforms.Compose([\n",
        "    transforms.ToTensor(),\n",
        "    transforms.Normalize([0.5], [0.5]),\n",
        "    transforms.Lambda(lambda x: x.to(device))\n",
        "])"
      ],
      "metadata": {
        "id": "DTr2uaMHCknS"
      },
      "execution_count": 4,
      "outputs": []
    },
    {
      "cell_type": "code",
      "source": [
        "trn_ds = MNIST('/content/', transform=img_transform, train=True, download=True)\n",
        "val_ds = MNIST('/content/', transform=img_transform, train=False, download=True)"
      ],
      "metadata": {
        "colab": {
          "base_uri": "https://localhost:8080/"
        },
        "id": "AbVYXDWGDaR7",
        "outputId": "d546c994-17d3-493e-f18c-d3270bb61296"
      },
      "execution_count": 5,
      "outputs": [
        {
          "output_type": "stream",
          "name": "stderr",
          "text": [
            "100%|██████████| 9.91M/9.91M [00:00<00:00, 36.9MB/s]\n",
            "100%|██████████| 28.9k/28.9k [00:00<00:00, 1.17MB/s]\n",
            "100%|██████████| 1.65M/1.65M [00:00<00:00, 8.93MB/s]\n",
            "100%|██████████| 4.54k/4.54k [00:00<00:00, 4.69MB/s]\n"
          ]
        }
      ]
    },
    {
      "cell_type": "code",
      "source": [
        "from torch.utils.data import DataLoader\n",
        "\n",
        "batch_size = 256\n",
        "trn_dl = DataLoader(trn_ds, batch_size=batch_size, shuffle=True)\n",
        "val_dl = DataLoader(val_ds, batch_size=batch_size, shuffle=False)"
      ],
      "metadata": {
        "id": "eeKQWG9_DxoV"
      },
      "execution_count": 7,
      "outputs": []
    },
    {
      "cell_type": "code",
      "source": [
        "import torch.nn as nn\n",
        "\n",
        "class AutoEncoder(nn.Module):\n",
        "  def __init__(self, latent_dim):\n",
        "    super().__init__()\n",
        "    self.latent_dim = latent_dim\n",
        "    self.encoder = nn.Sequential(\n",
        "        nn.Linear(28*28, 128), nn.ReLU(True),\n",
        "        nn.Linear(128, 64), nn.ReLU(True),\n",
        "        nn.Linear(64, 12), nn.ReLU(True),\n",
        "        nn.Linear(12, latent_dim)\n",
        "    )\n",
        "    self.decoder = nn.Sequential(\n",
        "        # nn.Linear(latent_dim, 12), nn.ReLU(True),\n",
        "        nn.Linear(latent_dim, 64), nn.ReLU(True),\n",
        "        nn.Linear(64, 128), nn.ReLU(True),\n",
        "        nn.Linear(128, 28*28), nn.Tanh()\n",
        "    )\n",
        "\n",
        "  def forward(self, x):\n",
        "    x = x.view(len(x), -1)\n",
        "    x = self.encoder(x)\n",
        "    x = self.decoder(x)\n",
        "    x = x.view(len(x), 1, 28, 28)\n",
        "    return x"
      ],
      "metadata": {
        "id": "3wUTraxEEADN"
      },
      "execution_count": 10,
      "outputs": []
    },
    {
      "cell_type": "code",
      "source": [
        "!pip install torch_summary\n",
        "\n",
        "from torchsummary import summary\n",
        "model = AutoEncoder(3).to(device)\n",
        "summary(model, torch.zeros(2, 1, 28, 28))"
      ],
      "metadata": {
        "colab": {
          "base_uri": "https://localhost:8080/"
        },
        "id": "8MDr-Lb6FWdr",
        "outputId": "13f9bb4b-27f9-4b5f-98b6-35c984ded1fb"
      },
      "execution_count": 11,
      "outputs": [
        {
          "output_type": "stream",
          "name": "stdout",
          "text": [
            "Requirement already satisfied: torch_summary in /usr/local/lib/python3.11/dist-packages (1.4.5)\n",
            "==========================================================================================\n",
            "Layer (type:depth-idx)                   Output Shape              Param #\n",
            "==========================================================================================\n",
            "├─Sequential: 1-1                        [-1, 3]                   --\n",
            "|    └─Linear: 2-1                       [-1, 128]                 100,480\n",
            "|    └─ReLU: 2-2                         [-1, 128]                 --\n",
            "|    └─Linear: 2-3                       [-1, 64]                  8,256\n",
            "|    └─ReLU: 2-4                         [-1, 64]                  --\n",
            "|    └─Linear: 2-5                       [-1, 12]                  780\n",
            "|    └─ReLU: 2-6                         [-1, 12]                  --\n",
            "|    └─Linear: 2-7                       [-1, 3]                   39\n",
            "├─Sequential: 1-2                        [-1, 784]                 --\n",
            "|    └─Linear: 2-8                       [-1, 64]                  256\n",
            "|    └─ReLU: 2-9                         [-1, 64]                  --\n",
            "|    └─Linear: 2-10                      [-1, 128]                 8,320\n",
            "|    └─ReLU: 2-11                        [-1, 128]                 --\n",
            "|    └─Linear: 2-12                      [-1, 784]                 101,136\n",
            "|    └─Tanh: 2-13                        [-1, 784]                 --\n",
            "==========================================================================================\n",
            "Total params: 219,267\n",
            "Trainable params: 219,267\n",
            "Non-trainable params: 0\n",
            "Total mult-adds (M): 0.44\n",
            "==========================================================================================\n",
            "Input size (MB): 0.01\n",
            "Forward/backward pass size (MB): 0.01\n",
            "Params size (MB): 0.84\n",
            "Estimated Total Size (MB): 0.85\n",
            "==========================================================================================\n"
          ]
        },
        {
          "output_type": "execute_result",
          "data": {
            "text/plain": [
              "==========================================================================================\n",
              "Layer (type:depth-idx)                   Output Shape              Param #\n",
              "==========================================================================================\n",
              "├─Sequential: 1-1                        [-1, 3]                   --\n",
              "|    └─Linear: 2-1                       [-1, 128]                 100,480\n",
              "|    └─ReLU: 2-2                         [-1, 128]                 --\n",
              "|    └─Linear: 2-3                       [-1, 64]                  8,256\n",
              "|    └─ReLU: 2-4                         [-1, 64]                  --\n",
              "|    └─Linear: 2-5                       [-1, 12]                  780\n",
              "|    └─ReLU: 2-6                         [-1, 12]                  --\n",
              "|    └─Linear: 2-7                       [-1, 3]                   39\n",
              "├─Sequential: 1-2                        [-1, 784]                 --\n",
              "|    └─Linear: 2-8                       [-1, 64]                  256\n",
              "|    └─ReLU: 2-9                         [-1, 64]                  --\n",
              "|    └─Linear: 2-10                      [-1, 128]                 8,320\n",
              "|    └─ReLU: 2-11                        [-1, 128]                 --\n",
              "|    └─Linear: 2-12                      [-1, 784]                 101,136\n",
              "|    └─Tanh: 2-13                        [-1, 784]                 --\n",
              "==========================================================================================\n",
              "Total params: 219,267\n",
              "Trainable params: 219,267\n",
              "Non-trainable params: 0\n",
              "Total mult-adds (M): 0.44\n",
              "==========================================================================================\n",
              "Input size (MB): 0.01\n",
              "Forward/backward pass size (MB): 0.01\n",
              "Params size (MB): 0.84\n",
              "Estimated Total Size (MB): 0.85\n",
              "=========================================================================================="
            ]
          },
          "metadata": {},
          "execution_count": 11
        }
      ]
    },
    {
      "cell_type": "code",
      "source": [
        "def train_batch(input, model, criterion, optimizer):\n",
        "  model.train()\n",
        "  optimizer.zero_grad()\n",
        "  output = model(input)\n",
        "  loss = criterion(output, input)\n",
        "  loss.backward()\n",
        "  optimizer.step()\n",
        "  return loss\n",
        "\n",
        "@torch.no_grad()\n",
        "def validate_batch(input, model, criterion):\n",
        "  model.eval()\n",
        "  output = model(input)\n",
        "  loss = criterion(output, input)\n",
        "  return loss"
      ],
      "metadata": {
        "id": "gQa7oP8sFjBP"
      },
      "execution_count": 12,
      "outputs": []
    },
    {
      "cell_type": "code",
      "source": [
        "from torch.utils.tensorboard import SummaryWriter\n",
        "\n",
        "model = AutoEncoder(3).to(device)\n",
        "criterion = nn.MSELoss()\n",
        "optimizer = torch.optim.AdamW(model.parameters(), lr=0.001, weight_decay=1e-5)\n",
        "\n",
        "num_epochs = 5\n",
        "writer = SummaryWriter()\n",
        "\n",
        "for epoch in range(num_epochs):\n",
        "    epoch_loss = 0\n",
        "    for ix, (data, _) in enumerate(trn_dl):\n",
        "        loss = train_batch(data, model, criterion, optimizer)\n",
        "        epoch_loss += loss\n",
        "        writer.add_scalar('Loss/train_batch', loss, epoch * len(trn_dl) + ix)\n",
        "\n",
        "    writer.add_scalar('Loss/train_epoch_avg', epoch_loss / len(trn_dl), epoch)\n",
        "\n",
        "writer.close()\n"
      ],
      "metadata": {
        "id": "tL7iYqCIGdpJ"
      },
      "execution_count": 14,
      "outputs": []
    },
    {
      "cell_type": "code",
      "source": [
        "import matplotlib.pyplot as plt\n",
        "\n",
        "for _ in range(3):\n",
        "    ix = np.random.randint(len(val_ds))\n",
        "    im, _ = val_ds[ix]\n",
        "    _im = model(im[None])[0]\n",
        "    fig, ax = plt.subplots(1,2,figsize=(3,3))\n",
        "    show(im[0], ax=ax[0], title='input')\n",
        "    show(_im[0], ax=ax[1], title='prediction')\n",
        "    plt.tight_layout()\n",
        "    plt.show()"
      ],
      "metadata": {
        "colab": {
          "base_uri": "https://localhost:8080/",
          "height": 524
        },
        "id": "5fIvKGl-HOjp",
        "outputId": "c2148093-0447-427b-8f96-2c22bdb63b4f"
      },
      "execution_count": 16,
      "outputs": [
        {
          "output_type": "display_data",
          "data": {
            "text/plain": [
              "<Figure size 300x300 with 2 Axes>"
            ],
            "image/png": "[encoded data removed]"
          },
          "metadata": {}
        },
        {
          "output_type": "display_data",
          "data": {
            "text/plain": [
              "<Figure size 300x300 with 2 Axes>"
            ],
            "image/png": "[encoded data removed]"
          },
          "metadata": {}
        },
        {
          "output_type": "display_data",
          "data": {
            "text/plain": [
              "<Figure size 300x300 with 2 Axes>"
            ],
            "image/png": "[encoded data removed]"
          },
          "metadata": {}
        }
      ]
    },
    {
      "cell_type": "code",
      "source": [],
      "metadata": {
        "id": "6upVfJ0cJRjh"
      },
      "execution_count": null,
      "outputs": []
    }
  ]
}